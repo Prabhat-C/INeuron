{
 "cells": [
  {
   "cell_type": "markdown",
   "id": "e5b08af5",
   "metadata": {},
   "source": [
    "1. Write a function that takes a positive integer num and calculates how many dots exist in a pentagonal shape around the center dot on the Nth iteration.\n",
    "\n",
    "In the image below you can see the first iteration is only a single dot. On the second, there are 6 dots. On the third, there are 16 dots, and on the fourth there are 31 dots.\n",
    "\n",
    "Return the number of dots that exist in the whole pentagon on the Nth iteration.\n",
    "\n",
    "Examples\n",
    "\n",
    "pentagonal(1) ➞ 1\n",
    "\n",
    "pentagonal(2) ➞ 6\n",
    "\n",
    "pentagonal(3) ➞ 16\n",
    "\n",
    "pentagonal(8) ➞ 141\n"
   ]
  },
  {
   "cell_type": "code",
   "execution_count": 1,
   "id": "f3f3a147",
   "metadata": {},
   "outputs": [],
   "source": [
    "def pentagonal(Num):\n",
    "    Sum = 1\n",
    "    for i in range(Num):\n",
    "        Sum+= 5*i\n",
    "        \n",
    "    return Sum\n",
    "\n"
   ]
  },
  {
   "cell_type": "markdown",
   "id": "2b97df3c",
   "metadata": {},
   "source": [
    "\n",
    "2.  Make a function that encrypts a given input with these steps:\n",
    "\n",
    "Input: \"apple\"\n",
    "\n",
    "Step 1: Reverse the input: \"elppa\"\n",
    "\n",
    "Step 2: Replace all vowels using the following chart:\n",
    "\n",
    "a => 0\n",
    "e => 1\n",
    "i => 2\n",
    "o => 2\n",
    "u => 3\n",
    "\n",
    "-> \"1lpp0\"\n",
    "\n",
    "Step 3: Add \"aca\" to the end of the word: \"1lpp0aca\"\n",
    "\n",
    "Output: \"1lpp0aca\"\n",
    "\n",
    "Examples\n",
    "\n",
    "encrypt(\"banana\") ➞ \"0n0n0baca\"\n",
    "\n",
    "encrypt(\"karaca\") ➞ \"0c0r0kaca\"\n",
    "\n",
    "encrypt(\"burak\") ➞ \"k0r3baca\"\n",
    "\n",
    "encrypt(\"alpaca\") ➞ \"0c0pl0aca\"\n"
   ]
  },
  {
   "cell_type": "code",
   "execution_count": 2,
   "id": "71c22ba1",
   "metadata": {},
   "outputs": [],
   "source": [
    "def encrypt(String):\n",
    "    Dict_vowels = {'a': '0', 'e':'1', 'i': '2', 'o':'3', 'u':'4'}\n",
    "    String = String[::-1]         #using extended slicing\n",
    "    List_Str = []                 #List to store enctripted string characters\n",
    "    \n",
    "    for i in String:\n",
    "        if i in Dict_vowels:\n",
    "            List_Str.append(Dict_vowels[i])\n",
    "            \n",
    "        else:\n",
    "            List_Str.append(i)\n",
    "            \n",
    "    return ''.join(List_Str)+'aca'    #converting list back to string and adding aca to end while returning \n",
    "\n",
    "\n"
   ]
  },
  {
   "cell_type": "markdown",
   "id": "5fd59dcf",
   "metadata": {},
   "source": [
    "3. Given the month and year as numbers, return whether that month contains a Friday 13th.(i.e You can check Python's datetime module)\n",
    "\n",
    "Examples\n",
    "\n",
    "has_friday_13(3, 2020) ➞ True\n",
    "\n",
    "has_friday_13(10, 2017) ➞ True\n",
    "\n",
    "has_friday_13(1, 1985) ➞ False\n"
   ]
  },
  {
   "cell_type": "code",
   "execution_count": 3,
   "id": "ffa0656c",
   "metadata": {},
   "outputs": [],
   "source": [
    "from datetime import date\n",
    "\n",
    "def has_friday_13(month, year):   \n",
    "    day = 13\n",
    "    date_instance = date(year,month,day)              #creating date instance\n",
    "    weekday = date_instance.isoweekday()              #finding weekday from date instance\n",
    "    \n",
    "    if weekday ==5:                                  #if weekday is 5, return True \n",
    "        return True\n",
    "    else:\n",
    "        return False\n",
    "    \n"
   ]
  },
  {
   "cell_type": "markdown",
   "id": "a5a30318",
   "metadata": {},
   "source": [
    "4. Write a regular expression that will help us count how many bad cookies are produced every day. You must use RegEx negative lookbehind.\n",
    "\n",
    "Example\n",
    "\n",
    "lst = [\"bad cookie\", \"good cookie\", \"bad cookie\", \"good cookie\", \"good cookie\"]\n",
    "pattern = \"yourregularexpressionhere\"\n",
    "\n",
    "len(re.findall(pattern, \", \".join(lst))) ➞ 2\n"
   ]
  },
  {
   "cell_type": "code",
   "execution_count": 4,
   "id": "9339d3ef",
   "metadata": {},
   "outputs": [
    {
     "data": {
      "text/plain": [
       "2"
      ]
     },
     "execution_count": 4,
     "metadata": {},
     "output_type": "execute_result"
    }
   ],
   "source": [
    "import re\n",
    "\n",
    "lst = [\"bad cookie\", \"good cookie\", \"bad cookie\", \"good cookie\", \"good cookie\"]\n",
    "\n",
    "pattern = '(?<!good )cookie'               \n",
    "\n",
    "len(re.findall(pattern, \", \".join(lst)))\n",
    "\n",
    "\n"
   ]
  },
  {
   "cell_type": "markdown",
   "id": "f75f5593",
   "metadata": {},
   "source": [
    "5. Given a list of words in the singular form, return a set of those words in the plural form if they appear more than once in the list.\n",
    "\n",
    "Examples\n",
    "\n",
    "pluralize([\"cow\", \"pig\", \"cow\", \"cow\"]) ➞ { \"cows\", \"pig\" }\n",
    "\n",
    "pluralize([\"table\", \"table\", \"table\"]) ➞ { \"tables\" }\n",
    "\n",
    "pluralize([\"chair\", \"pencil\", \"arm\"]) ➞ { \"chair\", \"pencil\", \"arm\" }\n"
   ]
  },
  {
   "cell_type": "code",
   "execution_count": 5,
   "id": "34814682",
   "metadata": {},
   "outputs": [],
   "source": [
    "def pluralize(lst):\n",
    "      \n",
    "    unique = set()             #set to hold unique values\n",
    "    for i in lst:\n",
    "        count = 0\n",
    "        for j in lst:          #for every value in list check whole list \n",
    "            if i ==j:\n",
    "                count+=1\n",
    "        if count>1:            #if count>1 means its plural \n",
    "            unique.add(i+'s')\n",
    "        else:\n",
    "            unique.add(i)\n",
    "            \n",
    "    return unique\n",
    "           \n"
   ]
  }
 ],
 "metadata": {
  "kernelspec": {
   "display_name": "Python 3 (ipykernel)",
   "language": "python",
   "name": "python3"
  },
  "language_info": {
   "codemirror_mode": {
    "name": "ipython",
    "version": 3
   },
   "file_extension": ".py",
   "mimetype": "text/x-python",
   "name": "python",
   "nbconvert_exporter": "python",
   "pygments_lexer": "ipython3",
   "version": "3.9.7"
  }
 },
 "nbformat": 4,
 "nbformat_minor": 5
}
