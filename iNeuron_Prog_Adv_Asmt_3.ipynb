{
 "cells": [
  {
   "cell_type": "markdown",
   "id": "aee75958",
   "metadata": {},
   "source": [
    "1. Create a function to perform basic arithmetic operations that includes addition, subtraction, multiplication and division on a string number (e.g. \"12 + 24\" or \"23 - 21\" or \"12 // 12\" or \"12 * 21\").\n",
    "\n",
    "Here, we have 1 followed by a space, operator followed by another space and 2. For the challenge, we are going to have only two numbers between 1 valid operator. The return value should be a number.\n",
    "\n",
    "eval() is not allowed. In case of division, whenever the second number equals \"0\" return -1.\n",
    "\n",
    "For example:\n",
    "\n",
    "\"15 // 0\"  ➞ -1\n",
    "\n",
    "Examples\n",
    "\n",
    "arithmetic_operation(\"12 + 12\") ➞ 24 // 12 + 12 = 24\n",
    "\n",
    "arithmetic_operation(\"12 - 12\") ➞ 24 // 12 - 12 = 0\n",
    "\n",
    "arithmetic_operation(\"12 * 12\") ➞ 144 // 12 * 12 = 144\n",
    "\n",
    "arithmetic_operation(\"12 // 0\") ➞ -1 // 12 / 0 = -1\n"
   ]
  },
  {
   "cell_type": "code",
   "execution_count": 1,
   "id": "d47c32fe",
   "metadata": {},
   "outputs": [],
   "source": [
    "def arithmetic_operation(String):\n",
    "    import re\n",
    "    NumOp = re.findall('\\d+|[+\\-*]|//', String)      #NumOP is the list of numbers and operator from string   \n",
    "    if NumOp[1] =='+'  :                             #pattern \\d+ matches numbers \n",
    "        return int(NumOp[0]) + int(NumOp[2])         #  | is for OR condition,    \\ is to cancel special value of - inside []\n",
    "    if NumOp[1] =='-'  :                             # characters inside [] also under OR condition\n",
    "        return int(NumOp[0]) - int(NumOp[2])\n",
    "    if NumOp[1] =='*'  :\n",
    "        return int(NumOp[0]) * int(NumOp[2])\n",
    "    if NumOp[1] =='//'  :\n",
    "        if NumOp[2]=='0':\n",
    "            return -1\n",
    "        else:\n",
    "            return int(NumOp[0]) // int(NumOp[2])\n",
    "        \n",
    "  "
   ]
  },
  {
   "cell_type": "markdown",
   "id": "17edc0f1",
   "metadata": {},
   "source": [
    "2. Write a function that takes the coordinates of three points in the form of a 2d array and returns the perimeter of the triangle. The given points are the vertices of a triangle on a two-dimensional plane.\n",
    "\n",
    "Examples\n",
    "\n",
    "perimeter( [ [15, 7], [5, 22], [11, 1] ] ) ➞ 47.08\n",
    "\n",
    "perimeter( [ [0, 0], [0, 1], [1, 0] ] ) ➞ 3.42\n",
    "\n",
    "perimeter( [ [-10, -10], [10, 10 ], [-10, 10] ] ) ➞ 68.28\n"
   ]
  },
  {
   "cell_type": "code",
   "execution_count": 2,
   "id": "3a9faa30",
   "metadata": {},
   "outputs": [],
   "source": [
    "def length(c1,c2):                                            #function to calcuate length between two coordinates                         \n",
    "    return ((c1[0]-c2[0])**2+(c1[1]-c2[1])**2)**0.5           #formula to return length between two coordinates\n",
    "\n",
    "def perimeter(List):                                                \n",
    "    l1 = length(List[0], List[1])\n",
    "    l2 = length(List[1], List[2])\n",
    "    l3 = length(List[2], List[0])\n",
    "    \n",
    "    return round(l1+l2+l3,2)                          #return the rounded off value of perimeter\n",
    "\n"
   ]
  },
  {
   "cell_type": "markdown",
   "id": "0d098dbe",
   "metadata": {},
   "source": [
    "3. A city skyline can be represented as a 2-D list with 1s representing buildings. In the example below, the height of the tallest building is 4 (second-most right column).\n",
    "\n",
    "[[0, 0, 0, 0, 0, 0],\n",
    "[0, 0, 0, 0, 1, 0],\n",
    "[0, 0, 1, 0, 1, 0],\n",
    "[0, 1, 1, 1, 1, 0],\n",
    "[1, 1, 1, 1, 1, 1]]\n",
    "\n",
    "Create a function that takes a skyline (2-D list of 0's and 1's) and returns the height of the tallest skyscraper.\n",
    "\n",
    "Examples\n",
    "\n",
    "tallest_skyscraper([\n",
    "  [0, 0, 0, 0],\n",
    "  [0, 1, 0, 0],\n",
    "  [0, 1, 1, 0],\n",
    "  [1, 1, 1, 1]\n",
    "]) ➞ 3\n",
    "\n",
    "tallest_skyscraper([\n",
    "  [0, 1, 0, 0],\n",
    "  [0, 1, 0, 0],\n",
    "  [0, 1, 1, 0],\n",
    "  [1, 1, 1, 1]\n",
    "]) ➞ 4\n",
    "\n",
    "tallest_skyscraper([\n",
    "  [0, 0, 0, 0],\n",
    "  [0, 0, 0, 0],\n",
    "  [1, 1, 1, 0],\n",
    "  [1, 1, 1, 1]\n",
    "]) ➞ 2\n"
   ]
  },
  {
   "cell_type": "code",
   "execution_count": 3,
   "id": "2da64b79",
   "metadata": {},
   "outputs": [],
   "source": [
    "def tallest_skyscraper(List):\n",
    "    all_counts = []                #list to store counts of 1 in each column\n",
    "    for i in range(len(List[0])):  #loop for each column\n",
    "        count = 0\n",
    "        for j in (List):           #loop for each row \n",
    "            if j[i]==1:\n",
    "                count+=1\n",
    "        all_counts.append(count)\n",
    "        \n",
    "    return max(all_counts)\n",
    "    \n",
    "            \n",
    "            "
   ]
  },
  {
   "cell_type": "markdown",
   "id": "15c9ef0b",
   "metadata": {},
   "source": [
    "4. A financial institution provides professional services to banks and claims charges from the customers based on the number of man-days provided. Internally, it has set a scheme to motivate and reward staff to meet and exceed targeted billable utilization and revenues by paying a bonus for each day claimed from customers in excess of a threshold target.\n",
    "\n",
    "This quarterly scheme is calculated with a threshold target of 32 days per quarter, and the incentive payment for each billable day in excess of such threshold target is shown as follows:\n",
    "\n",
    "Days\t                             Bonus\n",
    "0 to 32 days\t                   Zero\n",
    "33 to 40 days\t         SGD325 per billable day\n",
    "41 to 48 days\t         SGD550 per billable day\n",
    "Greater than 48 days      SGD600 per billable day\n",
    "\n",
    "Please note that incentive payment is calculated progressively. As an example, if an employee reached total billable days of 45 in a quarter, his/her incentive payment is computed as follows:\n",
    "\n",
    "32*0 + 8*325 + 5*550 = 5350\n",
    "\n",
    "Write a function to read the billable days of an employee and return the bonus he/she has obtained in that quarter.\n",
    "\n",
    "Examples\n",
    "\n",
    "bonus(15) ➞ 0\n",
    "\n",
    "bonus(37) ➞ 1625\n",
    "\n",
    "bonus(50) ➞ 8200\n"
   ]
  },
  {
   "cell_type": "code",
   "execution_count": 4,
   "id": "92985b2c",
   "metadata": {},
   "outputs": [],
   "source": [
    "def bonus(days):\n",
    "    if days-32 <= 0:\n",
    "        return 0\n",
    "    elif days-40 <=0:\n",
    "        return 325*(days-32)\n",
    "    elif days-48<=0:\n",
    "        return 550*(days-40)+325*8\n",
    "    else:\n",
    "        return 600*(days-48)+550*8+325*8\n",
    "    "
   ]
  },
  {
   "cell_type": "markdown",
   "id": "fd1e443c",
   "metadata": {},
   "source": [
    "5. A number is said to be Disarium if the sum of its digits raised to their respective positions is the number itself.\n",
    "\n",
    "Create a function that determines whether a number is a Disarium or not.\n",
    "\n",
    "Examples\n",
    "\n",
    "is_disarium(75) ➞ False\n",
    " 7^1 + 5^2 = 7 + 25 = 32\n",
    "\n",
    "is_disarium(135) ➞ True\n",
    " 1^1 + 3^2 + 5^3 = 1 + 9 + 125 = 135\n",
    "\n",
    "is_disarium(544) ➞ False\n",
    "\n",
    "is_disarium(518) ➞ True\n",
    "\n",
    "is_disarium(466) ➞ False\n",
    "\n",
    "is_disarium(8) ➞ True\n"
   ]
  },
  {
   "cell_type": "code",
   "execution_count": 5,
   "id": "1b66efcd",
   "metadata": {},
   "outputs": [],
   "source": [
    "def is_disarium(Num):\n",
    "    S = str(Num)             #converting Num to str so we can access index and individual digits \n",
    "    Sum = 0\n",
    "    for i,x in enumerate(S):\n",
    "        Sum+=int(x)**(i+1)    #converting digit back to int to perform operation, ^(i+1) because 0 index digit goes to ^1\n",
    "        \n",
    "    if Sum == Num:\n",
    "        return True\n",
    "    else:\n",
    "        return False\n",
    "    \n"
   ]
  }
 ],
 "metadata": {
  "kernelspec": {
   "display_name": "Python 3 (ipykernel)",
   "language": "python",
   "name": "python3"
  },
  "language_info": {
   "codemirror_mode": {
    "name": "ipython",
    "version": 3
   },
   "file_extension": ".py",
   "mimetype": "text/x-python",
   "name": "python",
   "nbconvert_exporter": "python",
   "pygments_lexer": "ipython3",
   "version": "3.9.7"
  }
 },
 "nbformat": 4,
 "nbformat_minor": 5
}
