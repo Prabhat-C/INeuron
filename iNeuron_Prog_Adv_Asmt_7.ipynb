{
 "cells": [
  {
   "cell_type": "markdown",
   "id": "6eff7883",
   "metadata": {},
   "source": [
    "1. Write a function that counts how many concentric layers a rug.\n",
    "\n",
    "Examples\n",
    "\n",
    "count_layers([\n",
    "  \"AAAA\",\n",
    "  \"ABBA\",\n",
    "  \"AAAA\"\n",
    "]) ➞ 2\n",
    "\n",
    "count_layers([\n",
    "  \"AAAAAAAAA\",\n",
    "  \"ABBBBBBBA\",\n",
    "  \"ABBAAABBA\",\n",
    "  \"ABBBBBBBA\",\n",
    "  \"AAAAAAAAA\"\n",
    "]) ➞ 3\n",
    "\n",
    "count_layers([\n",
    "  \"AAAAAAAAAAA\",\n",
    "  \"AABBBBBBBAA\",\n",
    "  \"AABCCCCCBAA\",\n",
    "  \"AABCAAACBAA\",\n",
    "  \"AABCADACBAA\",\n",
    "  \"AABCAAACBAA\",\n",
    "  \"AABCCCCCBAA\",\n",
    "  \"AABBBBBBBAA\",\n",
    "  \"AAAAAAAAAAA\"\n",
    "]) ➞ 5\n"
   ]
  },
  {
   "cell_type": "code",
   "execution_count": null,
   "id": "2faad92a",
   "metadata": {},
   "outputs": [],
   "source": [
    "def count_layers(lis):\n",
    "    return int((len(lis)+1)/2)"
   ]
  },
  {
   "cell_type": "markdown",
   "id": "73fec098",
   "metadata": {},
   "source": [
    "2. There are many different styles of music and many albums exhibit multiple styles. Create a function that takes a list of musical styles from albums and returns how many styles are unique.\n",
    "\n",
    "Examples\n",
    "\n",
    "unique_styles([\n",
    "  \"Dub,Dancehall\",\n",
    "  \"Industrial,Heavy Metal\",\n",
    "  \"Techno,Dubstep\",\n",
    "  \"Synth-pop,Euro-Disco\",\n",
    "  \"Industrial,Techno,Minimal\"\n",
    "]) ➞ 9\n",
    "\n",
    "unique_styles([\n",
    "  \"Soul\",\n",
    "  \"House,Folk\",\n",
    "  \"Trance,Downtempo,Big Beat,House\",\n",
    "  \"Deep House\",\n",
    "  \"Soul\"\n",
    "]) ➞ 7\n"
   ]
  },
  {
   "cell_type": "code",
   "execution_count": null,
   "id": "7b233c2e",
   "metadata": {},
   "outputs": [],
   "source": [
    "def unique_styles(lis):\n",
    "    unique = set()             #set to hold unique values \n",
    "    for album in lis:\n",
    "        styles_list = album.split(',') #making string of style into a list of style\n",
    "        for style in styles_list:\n",
    "            unique.add(style)\n",
    "    \n",
    "    return len(unique)        "
   ]
  },
  {
   "cell_type": "markdown",
   "id": "40e1c110",
   "metadata": {},
   "source": [
    "3. Create a function that finds a target number in a list of prime numbers. Implement a binary search algorithm in your function. The target number will be from 2 through 97. If the target is prime then return \"yes\" else return \"no\".\n",
    "\n",
    "Examples\n",
    "\n",
    "primes = [2, 3, 5, 7, 11, 13, 17, 19, 23, 29, 31, 37, 41, 43, 47, 53, 59, 61, 67, 71, 73, 79, 83, 89, 97]\n",
    "\n",
    "\n",
    "is_prime(primes, 3) ➞ \"yes\"\n",
    "\n",
    "is_prime(primes, 4) ➞ \"no\"\n",
    "\n",
    "is_prime(primes, 67) ➞ \"yes\"\n",
    "\n",
    "is_prime(primes, 36) ➞ \"no\"\n"
   ]
  },
  {
   "cell_type": "code",
   "execution_count": null,
   "id": "c6d87dfe",
   "metadata": {},
   "outputs": [],
   "source": [
    "primes = [2, 3, 5, 7, 11, 13, 17, 19, 23, 29, 31, 37, 41, 43, 47, 53, 59, 61, 67, 71, 73, 79, 83, 89, 97]\n",
    "\n",
    "\n",
    "def is_prime(primes, num):\n",
    "    l = len(primes)              #length of list to calculate up value\n",
    "    low = 0\n",
    "    up = l-1\n",
    "   \n",
    "    \n",
    "    while low<up:              #will run the loop until their is gap between low and up\n",
    "        mid = (low+up)//2      #keep updating mid point\n",
    "        mid_val = primes[mid]  #fetch mid value for comparison\n",
    "        print(low, up, mid, num,  mid_val)\n",
    "        if num == mid_val: \n",
    "            return \"yes\"\n",
    "        elif (low-up)**2 ==1:      #if num != mid value, and there is no number between up and low, then stop loop\n",
    "            return \"no\"  \n",
    "        elif num< mid_val:\n",
    "            up=mid\n",
    "        else:\n",
    "            low= mid\n",
    "    \n",
    "\n",
    "    \n",
    "        "
   ]
  },
  {
   "cell_type": "markdown",
   "id": "29a8662c",
   "metadata": {},
   "source": [
    "4. Create a function that takes in n, a, b and returns the number of positive values raised to the nth power that lie in the range [a, b], inclusive.\n",
    "\n",
    "Examples\n",
    "\n",
    "power_ranger(2, 49, 65) ➞ 2\n",
    " 2 squares (n^2) lie between 49 and 65, 49 (7^2) and 64 (8^2)\n",
    "\n",
    "power_ranger(3, 1, 27) ➞ 3\n",
    " 3 cubes (n^3) lie between 1 and 27, 1 (1^3), 8 (2^3) and 27 (3^3)\n",
    "\n",
    "power_ranger(10, 1, 5) ➞ 1\n",
    " 1 value raised to the 10th power lies between 1 and 5, 1 (1^10)\n",
    "\n",
    "power_ranger(5, 31, 33) ➞ 1\n",
    "\n",
    "power_ranger(4, 250, 1300) ➞ 3\n"
   ]
  },
  {
   "cell_type": "code",
   "execution_count": null,
   "id": "56f463f5",
   "metadata": {},
   "outputs": [],
   "source": [
    "def power_ranger(n,a,b):\n",
    "    low = int(a**(1/n))     #lower limit of the numbers being tested\n",
    "    up =  int(b**(1/n))     #upper limit of the numbers being tested\n",
    "    print(low,up)\n",
    "    \n",
    "    c = 0\n",
    "    for i in range(low, up+1):\n",
    "        if a<=i**n<=b:\n",
    "            print(i)\n",
    "            c+=1\n",
    "            \n",
    "    return c\n",
    "    "
   ]
  },
  {
   "cell_type": "markdown",
   "id": "9955397f",
   "metadata": {},
   "source": [
    "5. Given a number, return the difference between the maximum and minimum numbers that can be formed when the digits are rearranged.\n",
    "\n",
    "Examples\n",
    "\n",
    "rearranged_difference(972882) ➞ 760833\n",
    " 988722 - 227889 = 760833\n",
    "\n",
    "rearranged_difference(3320707) ➞ 7709823\n",
    " 7733200 - 23377 = 7709823\n",
    "\n",
    "rearranged_difference(90010) ➞ 90981\n",
    " 91000 - 19 = 90981\n"
   ]
  },
  {
   "cell_type": "code",
   "execution_count": null,
   "id": "d2cc0678",
   "metadata": {},
   "outputs": [],
   "source": [
    "def rearranged_difference(num):\n",
    "    maxi = int(''.join(sorted(str(num), reverse = True)))    #convert to string, sort (which also makes it a list)\n",
    "    mini = int(''.join(sorted(str(num))))                    #then join and convert back to int\n",
    "    \n",
    "    return maxi-mini"
   ]
  }
 ],
 "metadata": {
  "kernelspec": {
   "display_name": "Python 3 (ipykernel)",
   "language": "python",
   "name": "python3"
  },
  "language_info": {
   "codemirror_mode": {
    "name": "ipython",
    "version": 3
   },
   "file_extension": ".py",
   "mimetype": "text/x-python",
   "name": "python",
   "nbconvert_exporter": "python",
   "pygments_lexer": "ipython3",
   "version": "3.9.7"
  }
 },
 "nbformat": 4,
 "nbformat_minor": 5
}
