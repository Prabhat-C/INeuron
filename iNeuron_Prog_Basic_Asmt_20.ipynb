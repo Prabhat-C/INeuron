{
 "cells": [
  {
   "cell_type": "markdown",
   "id": "43db9ce6",
   "metadata": {},
   "source": [
    "Question1\n",
    "\n",
    "Create a function that takes a list of strings and integers, and filters out the list so that it returns a list of integers only.\n",
    "\n",
    "Examples\n",
    "\n",
    "filter_list([1, 2, 3, \"a\", \"b\", 4]) ➞ [1, 2, 3, 4]\n",
    "\n",
    "filter_list([\"A\", 0, \"Edabit\", 1729, \"Python\", \"1729\"]) ➞ [0, 1729]\n",
    "\n",
    "filter_list([\"Nothing\", \"here\"]) ➞ []\n"
   ]
  },
  {
   "cell_type": "code",
   "execution_count": null,
   "id": "84528c56",
   "metadata": {},
   "outputs": [],
   "source": [
    "def filter_list(L):\n",
    "    L1 = []\n",
    "    for i in L:\n",
    "        if type(i)==int:\n",
    "            L1.append(i)\n",
    "            \n",
    "    return L1\n",
    "\n",
    "\n"
   ]
  },
  {
   "cell_type": "markdown",
   "id": "2a502c70",
   "metadata": {},
   "source": [
    "Question2\n",
    "\n",
    "Given a list of numbers, create a function which returns the list but with each element's index in the list added to itself. This means you add 0 to the number at index 0, add 1 to the number at index 1, etc...\n",
    "\n",
    "Examples\n",
    "\n",
    "add_indexes([0, 0, 0, 0, 0]) ➞ [0, 1, 2, 3, 4]\n",
    "\n",
    "add_indexes([1, 2, 3, 4, 5]) ➞ [1, 3, 5, 7, 9]\n",
    "\n",
    "add_indexes([5, 4, 3, 2, 1]) ➞ [5, 5, 5, 5, 5]\n"
   ]
  },
  {
   "cell_type": "code",
   "execution_count": null,
   "id": "54e5872a",
   "metadata": {},
   "outputs": [],
   "source": [
    "def add_indexes(L):\n",
    "    L1 = []\n",
    "    for i in L:\n",
    "        L1.append(i+L.index(i))\n",
    "    \n",
    "    return L1\n",
    "\n",
    "\n"
   ]
  },
  {
   "cell_type": "markdown",
   "id": "820090f6",
   "metadata": {},
   "source": [
    "Question3\n",
    "\n",
    "Create a function that takes the height and radius of a cone as arguments and returns the volume of the cone rounded to the nearest hundredth. See the resources tab for the formula.\n",
    " \n",
    "Examples\n",
    "\n",
    "cone_volume(3, 2) ➞ 12.57\n",
    "\n",
    "cone_volume(15, 6) ➞ 565.49\n",
    "\n",
    "cone_volume(18, 0) ➞ 0\n"
   ]
  },
  {
   "cell_type": "code",
   "execution_count": null,
   "id": "a0f785d6",
   "metadata": {},
   "outputs": [],
   "source": [
    "def cone_volume(h,r):\n",
    "    return round(3.14/3*h*r**2,2)\n",
    "\n",
    "\n"
   ]
  },
  {
   "cell_type": "markdown",
   "id": "4257f8d4",
   "metadata": {},
   "source": [
    "Question4\n",
    "\n",
    "This Triangular Number Sequence is generated from a pattern of dots that form a triangle. The first 5 numbers of the sequence, or dots, are: \n",
    "1, 3, 6, 10, 15\n",
    "This means that the first triangle has just one dot, the second one has three dots, the third one has 6 dots and so on.\n",
    "Write a function that gives the number of dots with its corresponding triangle number of the sequence.\n",
    "\n",
    "Examples\n",
    "\n",
    "triangle(1) ➞ 1\n",
    "\n",
    "triangle(6) ➞ 21\n",
    "\n",
    "triangle(215) ➞ 23220\n"
   ]
  },
  {
   "cell_type": "code",
   "execution_count": null,
   "id": "285d2b56",
   "metadata": {},
   "outputs": [],
   "source": [
    "def triangle(n):\n",
    "    sum = 0\n",
    "    for i in range(n+1):\n",
    "        sum+=i\n",
    "    \n",
    "    return sum\n",
    "\n",
    "\n"
   ]
  },
  {
   "cell_type": "markdown",
   "id": "90fc41de",
   "metadata": {},
   "source": [
    "Question5\n",
    "\n",
    "Create a function that takes a list of numbers between 1 and 10 (excluding one number) and returns the missing number.\n",
    "Examples\n",
    "\n",
    "missing_num([1, 2, 3, 4, 6, 7, 8, 9, 10]) ➞ 5\n",
    "\n",
    "missing_num([7, 2, 3, 6, 5, 9, 1, 4, 8]) ➞ 10\n",
    "\n",
    "missing_num([10, 5, 1, 2, 4, 6, 8, 3, 9]) ➞ 7\n"
   ]
  },
  {
   "cell_type": "code",
   "execution_count": null,
   "id": "d7f808df",
   "metadata": {},
   "outputs": [],
   "source": [
    "def missing_num(L):\n",
    "    L.sort()                    #we first sort the list in ascending order\n",
    "    for i in range(9):          #we run the loop 9 times as there are 9 elements in list     \n",
    "        if L[i]!=i+1:           #if any value not equal to index+1, then return it\n",
    "            return i+1\n",
    "    return 10                   #if loop exhausts means no number missing between 1-9\n",
    "\n"
   ]
  },
  {
   "cell_type": "code",
   "execution_count": null,
   "id": "8aa78538",
   "metadata": {},
   "outputs": [],
   "source": []
  }
 ],
 "metadata": {
  "kernelspec": {
   "display_name": "Python 3",
   "language": "python",
   "name": "python3"
  },
  "language_info": {
   "codemirror_mode": {
    "name": "ipython",
    "version": 3
   },
   "file_extension": ".py",
   "mimetype": "text/x-python",
   "name": "python",
   "nbconvert_exporter": "python",
   "pygments_lexer": "ipython3",
   "version": "3.8.8"
  }
 },
 "nbformat": 4,
 "nbformat_minor": 5
}
