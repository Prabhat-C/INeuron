{
 "cells": [
  {
   "cell_type": "markdown",
   "id": "38bb14e6",
   "metadata": {},
   "source": [
    "1. In mathematics, the Fibonacci numbers, commonly denoted Fn, form a sequence, called the Fibonacci sequence, such that each number is the sum of the two preceding ones, starting from 0 and 1:\n",
    "\n",
    "The beginning of the sequence is this:\n",
    "\n",
    "0, 1, 1, 2, 3, 5, 8, 13, 21, 34, 55, 89, 144, ...\n",
    "\n",
    "The function fastFib(num) returns the fibonacci number Fn, of the given num as an argument.\n",
    "\n",
    "Examples\n",
    "\n",
    "fib_fast(5) ➞ 5\n",
    "\n",
    "fib_fast(10) ➞ 55\n",
    "\n",
    "fib_fast(20) ➞ 6765\n",
    "\n",
    "fib_fast(50) ➞ 12586269025\n"
   ]
  },
  {
   "cell_type": "code",
   "execution_count": 7,
   "id": "96e7310c",
   "metadata": {},
   "outputs": [],
   "source": [
    "def fib_fast(N):\n",
    "    if N in [0,1]:\n",
    "        return N\n",
    "    else:\n",
    "        return fib_fast(N-1)+ fib_fast(N-2)"
   ]
  },
  {
   "cell_type": "markdown",
   "id": "bff13982",
   "metadata": {},
   "source": [
    "2. Create a function that takes a strings characters as ASCII and returns each characters hexadecimal value as a string.\n",
    "\n",
    "Examples\n",
    "\n",
    "convert_to_hex(\"hello world\") ➞ \"68 65 6c 6c 6f 20 77 6f 72 6c 64\"\n",
    "\n",
    "convert_to_hex(\"Big Boi\") ➞ \"42 69 67 20 42 6f 69\"\n",
    "\n",
    "convert_to_hex(\"Marty Poppinson\") ➞ \"4d 61 72 74 79 20 50 6f 70 70 69 6e 73 6f 6e\"\n"
   ]
  },
  {
   "cell_type": "code",
   "execution_count": 39,
   "id": "23d8e1eb",
   "metadata": {},
   "outputs": [],
   "source": [
    "def convert_to_hex(string):\n",
    "    result =\"\"\n",
    "    for i in string:\n",
    "        result+=  format(ord(i),\"x\")+\" \"\n",
    "        \n",
    "    return result\n",
    "        \n",
    "        "
   ]
  },
  {
   "cell_type": "markdown",
   "id": "3e111238",
   "metadata": {},
   "source": [
    "3. Someone has attempted to censor my strings by replacing every vowel with a *, l*k* th*s. Luckily, I've been able to find the vowels that were removed.\n",
    "\n",
    "Given a censored string and a string of the censored vowels, return the original uncensored string.\n",
    "\n",
    "Example\n",
    "\n",
    "uncensor(\"Wh*r* d*d my v*w*ls g*?\", \"eeioeo\") ➞ \"Where did my vowels go?\"\n",
    "\n",
    "uncensor(\"abcd\", \"\") ➞ \"abcd\"\n",
    "\n",
    "uncensor(\"*PP*RC*S*\", \"UEAE\") ➞ \"UPPERCASE\"\n"
   ]
  },
  {
   "cell_type": "code",
   "execution_count": 50,
   "id": "4725e5ed",
   "metadata": {},
   "outputs": [],
   "source": [
    "def uncensor(str1, str2):\n",
    "    temp = list(str1)            #temporary list to store characters \n",
    "    c = 0                        #counter to iterate over the vowels\n",
    "    for i,x in enumerate(temp):\n",
    "        if x == '*':\n",
    "            temp[i]= str2[c]\n",
    "            c+=1                 #increase counter to move to next vowel once a match is found\n",
    "            \n",
    "    return ''.join(temp)\n",
    "            \n",
    "    "
   ]
  },
  {
   "cell_type": "markdown",
   "id": "f98aff35",
   "metadata": {},
   "source": [
    "4. Write a function that takes an IP address and returns the domain name using PTR DNS records.\n",
    "\n",
    "Example\n",
    "\n",
    "get_domain(\"8.8.8.8\") ➞ \"dns.google\"\n",
    "\n",
    "get_domain(\"8.8.4.4\") ➞ \"dns.google\"\n"
   ]
  },
  {
   "cell_type": "code",
   "execution_count": 57,
   "id": "051e766c",
   "metadata": {},
   "outputs": [],
   "source": [
    "def get_domain(ip):\n",
    "    import socket\n",
    "    result=socket.gethostbyaddr(ip)\n",
    "    return list(result)[0]\n"
   ]
  },
  {
   "cell_type": "markdown",
   "id": "8df9382d",
   "metadata": {},
   "source": [
    "5. Create a function that takes an integer n and returns the factorial of factorials. See below examples for a better understanding:\n",
    "\n",
    "Examples\n",
    "\n",
    "fact_of_fact(4) ➞ 288\n",
    "4! * 3! * 2! * 1! = 288\n",
    "\n",
    "fact_of_fact(5) ➞ 34560\n",
    "\n",
    "fact_of_fact(6) ➞ 24883200\n"
   ]
  },
  {
   "cell_type": "code",
   "execution_count": 64,
   "id": "e18c9746",
   "metadata": {},
   "outputs": [],
   "source": [
    "def fact(n):                       #function to return factorial of a number\n",
    "    if n in [0,1]:\n",
    "        return 1\n",
    "    else:\n",
    "        return n*fact(n-1)\n",
    "\n",
    "def fact_of_fact(num):             #function to return factorial of a factorial \n",
    "    if num in [0,1]:\n",
    "        return fact(num)           \n",
    "    else:\n",
    "        return fact(num)*fact_of_fact(num-1)\n",
    "    "
   ]
  }
 ],
 "metadata": {
  "kernelspec": {
   "display_name": "Python 3 (ipykernel)",
   "language": "python",
   "name": "python3"
  },
  "language_info": {
   "codemirror_mode": {
    "name": "ipython",
    "version": 3
   },
   "file_extension": ".py",
   "mimetype": "text/x-python",
   "name": "python",
   "nbconvert_exporter": "python",
   "pygments_lexer": "ipython3",
   "version": "3.9.7"
  }
 },
 "nbformat": 4,
 "nbformat_minor": 5
}
