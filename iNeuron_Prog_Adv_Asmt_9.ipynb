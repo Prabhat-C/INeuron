{
 "cells": [
  {
   "cell_type": "markdown",
   "id": "6cfb38bd",
   "metadata": {},
   "source": [
    "1. YouTube offers different playback speed options for users. This allows users to increase or decrease the speed of the video content. Given the actual duration and playback speed of the video, calculate the playback duration of the video.\n",
    "\n",
    "Examples\n",
    "\n",
    "playback_duration(\"00:30:00\", 2) ➞ \"00:15:00\"\n",
    "\n",
    "playback_duration(\"01:20:00\", 1.5) ➞ \"00:53:20\"\n",
    "\n",
    "playback_duration(\"51:20:09\", 0.5) ➞ \"102:40:18\"\n"
   ]
  },
  {
   "cell_type": "code",
   "execution_count": 1,
   "id": "b0779535",
   "metadata": {},
   "outputs": [],
   "source": [
    "def playback_duration(string, speed):\n",
    "    \n",
    "   \n",
    "    mul = speed**-1\n",
    "    matches = string.split(':')\n",
    "    millisec = int(matches[0])*3600+int(matches[1])*60 + int(matches[2])\n",
    "    \n",
    "    result = []\n",
    "    final = millisec*mul\n",
    "    f0 = str(int(final//3600))\n",
    "    result.append(f0)\n",
    "    f1 = str(int((final%3600)//60))\n",
    "    result.append(f1)\n",
    "    f2 = str(int((final%60)%60))\n",
    "    result.append(f2)\n",
    "    \n",
    "\n",
    "    for i,x in enumerate(result):\n",
    "        if len(x)==1:\n",
    "            result[i]='0'+x\n",
    "    \n",
    "    \n",
    "    return ':'.join(result)\n",
    "    "
   ]
  },
  {
   "cell_type": "markdown",
   "id": "314edc8d",
   "metadata": {},
   "source": [
    "2. We needs your help to construct a building which will be a pile of n cubes. The cube at the bottom will have a volume of n^3, the cube above will have volume of (n-1)^3 and so on until the top which will have a volume of 1^3.\n",
    "\n",
    "Given the total volume m of the building, can you find the number of cubes n required for the building?\n",
    "\n",
    "In other words, you have to return an integer n such that:\n",
    "\n",
    "n^3 + (n-1)^3 + ... + 1^3 == m\n",
    "\n",
    "Return None if there is no such number.\n",
    "\n",
    "Examples\n",
    "\n",
    "pile_of_cubes(1071225) ➞ 45\n",
    "\n",
    "pile_of_cubes(4183059834009) ➞ 2022\n",
    "\n",
    "pile_of_cubes(16) ➞ None\n"
   ]
  },
  {
   "cell_type": "code",
   "execution_count": 2,
   "id": "34fccb86",
   "metadata": {},
   "outputs": [],
   "source": [
    "def pile_of_cubes(m):\n",
    "    \n",
    "    Sum = 0\n",
    "    n=1\n",
    "    while Sum<m:\n",
    "        Sum+=n**3\n",
    "        n+=1\n",
    "        \n",
    "    \n",
    "    if Sum==m:\n",
    "        return n-1\n",
    "    else:\n",
    "        return 'None'\n",
    "        \n",
    "    \n",
    "    "
   ]
  },
  {
   "cell_type": "markdown",
   "id": "3989d138",
   "metadata": {},
   "source": [
    "3. A fulcrum of a list is an integer such that all elements to the left of it and all elements to the right of it sum to the same value. Write a function that finds the fulcrum of a list.\n",
    "\n",
    "To illustrate:\n",
    "\n",
    "find_fulcrum([3, 1, 5, 2, 4, 6, -1]) ➞ 2\n",
    "// Since [3, 1, 5] and [4, 6, -1] both sum to 9\n",
    "\n",
    "Examples\n",
    "\n",
    "find_fulcrum([1, 2, 4, 9, 10, -10, -9, 3]) ➞ 4\n",
    "\n",
    "find_fulcrum([9, 1, 9]) ➞ 1\n",
    "\n",
    "find_fulcrum([7, -1, 0, -1, 1, 1, 2, 3]) ➞ 0\n",
    "\n",
    "find_fulcrum([8, 8, 8, 8]) ➞ -1\n"
   ]
  },
  {
   "cell_type": "code",
   "execution_count": 3,
   "id": "563c8f49",
   "metadata": {},
   "outputs": [],
   "source": [
    "from functools import reduce\n",
    "\n",
    "def find_fulcrum(lis):\n",
    "    sum1 = 0\n",
    "    sum2 = 0\n",
    "    L= len(lis)\n",
    "    fun = lambda x,y: x+y\n",
    "    for i,x in enumerate(lis):\n",
    "        print(i)\n",
    "        if i==0 :                           #for first value, we check if rest of the list equates to 0          \n",
    "            sum2 = reduce(fun , lis[1:])\n",
    "            if sum1 == sum2:\n",
    "                return x\n",
    "            \n",
    "        elif i==L-1:                        #for last value, we check rest of the list equates to 0\n",
    "            sum1 = reduce(fun , lis[:L-1])\n",
    "            if sum1 == sum2:\n",
    "                return x     \n",
    "        else:                               #for all other values, we compare sum of before and after using reduce.\n",
    "            sum1 = reduce(fun, lis[:i])\n",
    "            sum2 = reduce(fun, lis[i+1: L])\n",
    "            if sum1 == sum2:\n",
    "                return x\n",
    "    else:\n",
    "        return -1\n",
    "    \n",
    "            \n",
    "                                                    "
   ]
  },
  {
   "cell_type": "markdown",
   "id": "9412e758",
   "metadata": {},
   "source": [
    "4. Given a list of integers representing the color of each sock, determine how many pairs of socks with matching colors there are. For example, there are 7 socks with colors [1, 2, 1, 2, 1, 3, 2]. There is one pair of color 1 and one of color 2. There are three odd socks left, one of each color. The number of pairs is 2.\n",
    "\n",
    "Create a function that returns an integer representing the number of matching pairs of socks that are available.\n",
    "\n",
    "Examples\n",
    "\n",
    "sock_merchant([10, 20, 20, 10, 10, 30, 50, 10, 20]) ➞ 3\n",
    "\n",
    "sock_merchant([50, 20, 30, 90, 30, 20, 50, 20, 90]) ➞ 4\n",
    "\n",
    "sock_merchant([]) ➞ 0\n"
   ]
  },
  {
   "cell_type": "code",
   "execution_count": 4,
   "id": "a1910bce",
   "metadata": {},
   "outputs": [],
   "source": [
    "def sock_merchant(lis):\n",
    "    \n",
    "    uniq = set(lis)                    #set to store uniq colors\n",
    "    count_uniq = []                    #list to store count of each color's sock\n",
    "    for i in uniq:                     #loop to count number of each color's sock\n",
    "        count = 0\n",
    "        for j in lis:\n",
    "            if j==i:\n",
    "                count+=1\n",
    "        count_uniq.append(count)     \n",
    "    \n",
    "    pairs = 0\n",
    "    for i in count_uniq:             #divide count of each color by 2, to find number of pairs and add all pairs \n",
    "        pairs+= i//2\n",
    "        \n",
    "    return pairs\n",
    "        \n",
    "    "
   ]
  },
  {
   "cell_type": "markdown",
   "id": "bf5257ef",
   "metadata": {},
   "source": [
    "5. Create a function that takes a string containing integers as well as other characters and return the sum of the negative integers only.\n",
    "\n",
    "Examples\n",
    "\n",
    "negative_sum(\"-12 13%14&-11\") ➞ -23\n",
    " -12 + -11 = -23\n",
    "\n",
    "negative_sum(\"22 13%14&-11-22 13 12\") ➞ -33\n",
    " -11 + -22 = -33\n"
   ]
  },
  {
   "cell_type": "code",
   "execution_count": 5,
   "id": "50dcf56c",
   "metadata": {},
   "outputs": [],
   "source": [
    "import re\n",
    "\n",
    "def negative_sum(string):\n",
    "    pattern = '-\\d+'\n",
    "    matches= re.findall(pattern, string)\n",
    "    \n",
    "    result = 0\n",
    "    for i in matches:\n",
    "        result+= int(i)\n",
    "    \n",
    "    return result\n",
    "          \n",
    "    "
   ]
  }
 ],
 "metadata": {
  "kernelspec": {
   "display_name": "Python 3 (ipykernel)",
   "language": "python",
   "name": "python3"
  },
  "language_info": {
   "codemirror_mode": {
    "name": "ipython",
    "version": 3
   },
   "file_extension": ".py",
   "mimetype": "text/x-python",
   "name": "python",
   "nbconvert_exporter": "python",
   "pygments_lexer": "ipython3",
   "version": "3.9.7"
  }
 },
 "nbformat": 4,
 "nbformat_minor": 5
}
