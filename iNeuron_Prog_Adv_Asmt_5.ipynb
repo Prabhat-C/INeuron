{
 "cells": [
  {
   "cell_type": "markdown",
   "id": "860a4913",
   "metadata": {},
   "source": [
    "1. Create a function that takes a number n (integer greater than zero) as an argument, and returns 2 if n is odd and 8 if n is even.\n",
    "\n",
    "You can only use the following arithmetic operators: addition of numbers +, subtraction of numbers -, multiplication of number *, division of number /, and exponentiation **.\n",
    "\n",
    "You are not allowed to use any other methods in this challenge (i.e. no if statements, comparison operators, etc).\n",
    "\n",
    "Examples\n",
    "\n",
    "f(1) ➞ 2\n",
    "\n",
    "f(2) ➞ 8\n",
    "\n",
    "f(3) ➞ 2\n"
   ]
  },
  {
   "cell_type": "code",
   "execution_count": 1,
   "id": "5097612f",
   "metadata": {},
   "outputs": [],
   "source": [
    "def f(n):\n",
    "    result = (8, 2) \n",
    "    return result[n%2]"
   ]
  },
  {
   "cell_type": "markdown",
   "id": "ea8ac22d",
   "metadata": {},
   "source": [
    "2. Create a function that returns the majority vote in a list. A majority vote is an element that occurs > N/2 times in a list (where N is the length of the list).\n",
    "\n",
    "Examples\n",
    "\n",
    "majority_vote([\"A\", \"A\", \"B\"]) ➞ \"A\"\n",
    "\n",
    "majority_vote([\"A\", \"A\", \"A\", \"B\", \"C\", \"A\"]) ➞ \"A\"\n",
    "\n",
    "majority_vote([\"A\", \"B\", \"B\", \"A\", \"C\", \"C\"]) ➞ None\n"
   ]
  },
  {
   "cell_type": "code",
   "execution_count": 2,
   "id": "80ef086f",
   "metadata": {},
   "outputs": [],
   "source": [
    "def majority_vote(lis):\n",
    "    \n",
    "#code to create dictionary of elements with their count\n",
    "    uniq_ele = set()         #set of uniq values\n",
    "    dict_ele = {}\n",
    "    for i in lis:\n",
    "        if i in uniq_ele:    #if already in set, means already counted\n",
    "            continue\n",
    "        else:\n",
    "            uniq_ele.add(i)  #start counter if its not already counted, i.e not already in set \n",
    "            c = 0        \n",
    "            for j in lis:\n",
    "                if i ==j:\n",
    "                    c+=1\n",
    "            dict_ele[i]=c\n",
    "\n",
    "#code to return key if the max value is unique, else return 'None'\n",
    "    c2 = 0\n",
    "    for k in dict_ele.values():      \n",
    "        if max(dict_ele.values())==k:\n",
    "            c2+=1\n",
    "    if c2==1:\n",
    "        return max(zip(dict_ele.values(), dict_ele.keys()))[1]   #zip values and keys as tuple, and fetch key for max value\n",
    "    else:         \n",
    "        return 'None'\n",
    "            \n",
    "      "
   ]
  },
  {
   "cell_type": "markdown",
   "id": "e2e670ba",
   "metadata": {},
   "source": [
    "3. Create a function that takes a string txt and censors any word from a given list lst. The text removed must be replaced by the given character char.\n",
    "\n",
    "Examples\n",
    "\n",
    "censor_string(\"Today is a Wednesday!\", [\"Today\", \"a\"], \"-\") ➞ \"----- is - Wednesday!\"\n",
    "\n",
    "censor_string(\"The cow jumped over the moon.\", [\"cow\", \"over\"], \"*\"), \"The *** jumped **** the moon.\")\n",
    "\n",
    "censor_string(\"Why did the chicken cross the road?\", [\"Did\", \"chicken\", \"road\"], \"*\") ➞ \"Why *** the ******* cross the ****?\"\n"
   ]
  },
  {
   "cell_type": "code",
   "execution_count": 3,
   "id": "993576b8",
   "metadata": {},
   "outputs": [],
   "source": [
    "import re\n",
    "\n",
    "def repl(m):                         #function takes the match object as argument, which is given by re.sub in definition\n",
    "    return '-'*len(m.group(0))   #len(m.group(0) = m.span()[1]-m.span()[0], i.e it gives the length of match\n",
    "                                #to return a replacement string multiplying by random character - with length of match\n",
    "                                     \n",
    "\n",
    "\n",
    "def censor_string(string, lis, char):\n",
    "    x= '|'.join(lis)                 #to convert list of words to pattern with words separated by pipe to use OR condition\n",
    "    m = re.search(fr\"\\b{x}\\b\", string)\n",
    "    string = re.sub(fr\"\\b{x}\\b\", repl, string)   #f to for f-string to use value of x, r for raw \n",
    "                                                 #\\b to make sure full word is matched\n",
    "                                                  # passion repl function as argument for callback\n",
    "            \n",
    "    string_final = re.sub('-',char,string)       #code to convert random character - to desired character *\n",
    "   \n",
    "    return string_final\n",
    "    \n",
    "\n",
    "#re.sub(pattern, repl, string, count=0, flags=0)\n",
    "#If repl is a function, it is called for every non-overlapping occurrence of pattern. \n",
    "#The function takes a single match object argument, and returns the replacement string.\n",
    "#this technique is called as callback \n",
    "\n"
   ]
  },
  {
   "cell_type": "markdown",
   "id": "6b08dacb",
   "metadata": {},
   "source": [
    "4. In mathematics a Polydivisible Number (or magic number) is a number in a given number base with digits abcde... that has the following properties:\n",
    "\n",
    "-  Its first digit a is not 0.\n",
    "- The number formed by its first two digits ab is a multiple of 2.\n",
    "- The number formed by its first three digits abc is a multiple of 3.\n",
    "- The number formed by its first four digits abcd is a multiple of 4.\n",
    "\n",
    "Create a function which takes an integer n and returns True if the given number is a Polydivisible Number and False otherwise.\n",
    "\n",
    "Examples\n",
    "\n",
    "is_polydivisible(1232) ➞ True\n",
    "1     / 1 = 1\n",
    "12    / 2 = 6\n",
    "123   / 3 = 41\n",
    "1232  / 4 = 308\n",
    "\n",
    "is_polydivisible(123220 ) ➞ False\n",
    "1   / 1 = 1\n",
    "12   / 2 = 6\n",
    "123   / 3 = 41\n",
    "1232   / 4 = 308\n",
    "12322   / 5 = 2464.4         # Not a Whole Number\n",
    "123220   /6 = 220536.333...  # Not a Whole Number\n"
   ]
  },
  {
   "cell_type": "code",
   "execution_count": 4,
   "id": "f2196e5d",
   "metadata": {},
   "outputs": [],
   "source": [
    "def is_polydivisible(n):\n",
    "    s = str(n)                    #convert number to string, so we can iterate over it\n",
    "\n",
    "    c = ''                        #dummy string to hold iterated characters from beginning\n",
    "    for i in s:\n",
    "        c+=i\n",
    "        if int(c)%len(c)==0:     #polydivisible check\n",
    "            if len(c)==len(s):   #if reached last character, then return true\n",
    "                return True\n",
    "            else:\n",
    "                continue\n",
    "        else:\n",
    "            return False\n",
    "\n",
    "    \n"
   ]
  },
  {
   "cell_type": "markdown",
   "id": "2a6c0983",
   "metadata": {},
   "source": [
    "5. Create a function that takes a list of numbers and returns the sum of all prime numbers in the list.\n",
    "\n",
    "Examples\n",
    "\n",
    "sum_primes([1, 2, 3, 4, 5, 6, 7, 8, 9, 10]) ➞ 17\n",
    "\n",
    "sum_primes([2, 3, 4, 11, 20, 50, 71]) ➞ 87\n",
    "\n",
    "sum_primes([]) ➞ None\n"
   ]
  },
  {
   "cell_type": "code",
   "execution_count": 5,
   "id": "eaee4cb8",
   "metadata": {},
   "outputs": [],
   "source": [
    "def sum_primes(lis):\n",
    "    c = 0\n",
    "    for i in lis:\n",
    "        \n",
    "        if i ==1:\n",
    "            continue\n",
    "        \n",
    "        elif i ==2:\n",
    "            c+=i\n",
    "            \n",
    "        else:\n",
    "            for j in range(2,i):\n",
    "                if i%j ==0:\n",
    "                    break\n",
    "            else:\n",
    "                c+=i\n",
    "    if c>0:           \n",
    "        return c\n",
    "    else:\n",
    "        return 'None'\n",
    "\n",
    "        "
   ]
  }
 ],
 "metadata": {
  "kernelspec": {
   "display_name": "Python 3 (ipykernel)",
   "language": "python",
   "name": "python3"
  },
  "language_info": {
   "codemirror_mode": {
    "name": "ipython",
    "version": 3
   },
   "file_extension": ".py",
   "mimetype": "text/x-python",
   "name": "python",
   "nbconvert_exporter": "python",
   "pygments_lexer": "ipython3",
   "version": "3.9.7"
  }
 },
 "nbformat": 4,
 "nbformat_minor": 5
}
